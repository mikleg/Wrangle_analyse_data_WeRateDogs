{
 "cells": [
  {
   "cell_type": "markdown",
   "metadata": {
    "extensions": {
     "jupyter_dashboards": {
      "version": 1,
      "views": {
       "grid_default": {
        "col": 0,
        "height": 4,
        "hidden": false,
        "row": 0,
        "width": 4
       },
       "report_default": {
        "hidden": false
       }
      }
     }
    }
   },
   "source": [
    "# Project: Wrangling and Analyze Data"
   ]
  },
  {
   "cell_type": "markdown",
   "metadata": {},
   "source": [
    "## Data Gathering\n",
    "In the cell below, gather **all** three pieces of data for this project and load them in the notebook. **Note:** the methods required to gather each data are different.\n",
    "1. Directly download the WeRateDogs Twitter archive data (twitter_archive_enhanced.csv)"
   ]
  },
  {
   "cell_type": "code",
   "execution_count": 228,
   "metadata": {
    "extensions": {
     "jupyter_dashboards": {
      "version": 1,
      "views": {
       "grid_default": {
        "hidden": true
       },
       "report_default": {
        "hidden": true
       }
      }
     }
    }
   },
   "outputs": [],
   "source": [
    "import csv\n",
    "import urllib.request\n",
    "import pandas as pd\n",
    "import tweepy\n",
    "import os\n",
    "import os.path\n",
    "import requests\n",
    "import json\n",
    "import time"
   ]
  },
  {
   "cell_type": "code",
   "execution_count": 229,
   "metadata": {},
   "outputs": [
    {
     "data": {
      "text/plain": [
       "'C:\\\\Users\\\\mikle\\\\Downloads\\\\wgu\\\\DA\\\\project3'"
      ]
     },
     "execution_count": 229,
     "metadata": {},
     "output_type": "execute_result"
    }
   ],
   "source": [
    "cwd = os.getcwd() \n",
    "base_path = os.getcwd()\n",
    "cwd"
   ]
  },
  {
   "cell_type": "code",
   "execution_count": 230,
   "metadata": {},
   "outputs": [],
   "source": [
    "def file_exists(base_p, file_name):\n",
    "    return(os.path.exists(os.path.join(base_p, file_name)))"
   ]
  },
  {
   "cell_type": "code",
   "execution_count": 231,
   "metadata": {},
   "outputs": [
    {
     "data": {
      "text/html": [
       "<div>\n",
       "<style scoped>\n",
       "    .dataframe tbody tr th:only-of-type {\n",
       "        vertical-align: middle;\n",
       "    }\n",
       "\n",
       "    .dataframe tbody tr th {\n",
       "        vertical-align: top;\n",
       "    }\n",
       "\n",
       "    .dataframe thead th {\n",
       "        text-align: right;\n",
       "    }\n",
       "</style>\n",
       "<table border=\"1\" class=\"dataframe\">\n",
       "  <thead>\n",
       "    <tr style=\"text-align: right;\">\n",
       "      <th></th>\n",
       "      <th>Unnamed: 0</th>\n",
       "      <th>tweet_id</th>\n",
       "      <th>in_reply_to_status_id</th>\n",
       "      <th>in_reply_to_user_id</th>\n",
       "      <th>timestamp</th>\n",
       "      <th>source</th>\n",
       "      <th>text</th>\n",
       "      <th>retweeted_status_id</th>\n",
       "      <th>retweeted_status_user_id</th>\n",
       "      <th>retweeted_status_timestamp</th>\n",
       "      <th>expanded_urls</th>\n",
       "      <th>rating_numerator</th>\n",
       "      <th>rating_denominator</th>\n",
       "      <th>name</th>\n",
       "      <th>doggo</th>\n",
       "      <th>floofer</th>\n",
       "      <th>pupper</th>\n",
       "      <th>puppo</th>\n",
       "    </tr>\n",
       "  </thead>\n",
       "  <tbody>\n",
       "    <tr>\n",
       "      <th>0</th>\n",
       "      <td>0</td>\n",
       "      <td>892420643555336193</td>\n",
       "      <td>NaN</td>\n",
       "      <td>NaN</td>\n",
       "      <td>2017-08-01 16:23:56 +0000</td>\n",
       "      <td>&lt;a href=\"http://twitter.com/download/iphone\" r...</td>\n",
       "      <td>This is Phineas. He's a mystical boy. Only eve...</td>\n",
       "      <td>NaN</td>\n",
       "      <td>NaN</td>\n",
       "      <td>NaN</td>\n",
       "      <td>https://twitter.com/dog_rates/status/892420643...</td>\n",
       "      <td>13</td>\n",
       "      <td>10</td>\n",
       "      <td>Phineas</td>\n",
       "      <td>None</td>\n",
       "      <td>None</td>\n",
       "      <td>None</td>\n",
       "      <td>None</td>\n",
       "    </tr>\n",
       "    <tr>\n",
       "      <th>1</th>\n",
       "      <td>1</td>\n",
       "      <td>892177421306343426</td>\n",
       "      <td>NaN</td>\n",
       "      <td>NaN</td>\n",
       "      <td>2017-08-01 00:17:27 +0000</td>\n",
       "      <td>&lt;a href=\"http://twitter.com/download/iphone\" r...</td>\n",
       "      <td>This is Tilly. She's just checking pup on you....</td>\n",
       "      <td>NaN</td>\n",
       "      <td>NaN</td>\n",
       "      <td>NaN</td>\n",
       "      <td>https://twitter.com/dog_rates/status/892177421...</td>\n",
       "      <td>13</td>\n",
       "      <td>10</td>\n",
       "      <td>Tilly</td>\n",
       "      <td>None</td>\n",
       "      <td>None</td>\n",
       "      <td>None</td>\n",
       "      <td>None</td>\n",
       "    </tr>\n",
       "    <tr>\n",
       "      <th>2</th>\n",
       "      <td>2</td>\n",
       "      <td>891815181378084864</td>\n",
       "      <td>NaN</td>\n",
       "      <td>NaN</td>\n",
       "      <td>2017-07-31 00:18:03 +0000</td>\n",
       "      <td>&lt;a href=\"http://twitter.com/download/iphone\" r...</td>\n",
       "      <td>This is Archie. He is a rare Norwegian Pouncin...</td>\n",
       "      <td>NaN</td>\n",
       "      <td>NaN</td>\n",
       "      <td>NaN</td>\n",
       "      <td>https://twitter.com/dog_rates/status/891815181...</td>\n",
       "      <td>12</td>\n",
       "      <td>10</td>\n",
       "      <td>Archie</td>\n",
       "      <td>None</td>\n",
       "      <td>None</td>\n",
       "      <td>None</td>\n",
       "      <td>None</td>\n",
       "    </tr>\n",
       "  </tbody>\n",
       "</table>\n",
       "</div>"
      ],
      "text/plain": [
       "   Unnamed: 0            tweet_id  in_reply_to_status_id  in_reply_to_user_id  \\\n",
       "0           0  892420643555336193                    NaN                  NaN   \n",
       "1           1  892177421306343426                    NaN                  NaN   \n",
       "2           2  891815181378084864                    NaN                  NaN   \n",
       "\n",
       "                   timestamp  \\\n",
       "0  2017-08-01 16:23:56 +0000   \n",
       "1  2017-08-01 00:17:27 +0000   \n",
       "2  2017-07-31 00:18:03 +0000   \n",
       "\n",
       "                                              source  \\\n",
       "0  <a href=\"http://twitter.com/download/iphone\" r...   \n",
       "1  <a href=\"http://twitter.com/download/iphone\" r...   \n",
       "2  <a href=\"http://twitter.com/download/iphone\" r...   \n",
       "\n",
       "                                                text  retweeted_status_id  \\\n",
       "0  This is Phineas. He's a mystical boy. Only eve...                  NaN   \n",
       "1  This is Tilly. She's just checking pup on you....                  NaN   \n",
       "2  This is Archie. He is a rare Norwegian Pouncin...                  NaN   \n",
       "\n",
       "   retweeted_status_user_id retweeted_status_timestamp  \\\n",
       "0                       NaN                        NaN   \n",
       "1                       NaN                        NaN   \n",
       "2                       NaN                        NaN   \n",
       "\n",
       "                                       expanded_urls  rating_numerator  \\\n",
       "0  https://twitter.com/dog_rates/status/892420643...                13   \n",
       "1  https://twitter.com/dog_rates/status/892177421...                13   \n",
       "2  https://twitter.com/dog_rates/status/891815181...                12   \n",
       "\n",
       "   rating_denominator     name doggo floofer pupper puppo  \n",
       "0                  10  Phineas  None    None   None  None  \n",
       "1                  10    Tilly  None    None   None  None  \n",
       "2                  10   Archie  None    None   None  None  "
      ]
     },
     "execution_count": 231,
     "metadata": {},
     "output_type": "execute_result"
    }
   ],
   "source": [
    "if (not(file_exists(base_path,\"twitter-archive-enhanced.csv\"))):\n",
    "    url = 'https://d17h27t6h515a5.cloudfront.net/topher/2017/August/59a4e958_twitter-archive-enhanced/twitter-archive-enhanced.csv'\n",
    "    file_to_read = urllib.request.urlopen(url)\n",
    "    df_ta = pd.read_csv(file_to_read)\n",
    "    df_ta.to_csv(tw_arch_file)\n",
    "else:\n",
    "    file_to_read = os.path.join(base_path, \"twitter-archive-enhanced.csv\")\n",
    "    df_ta = pd.read_csv(file_to_read)"
   ]
  },
  {
   "cell_type": "markdown",
   "metadata": {},
   "source": [
    "2. Use the Requests library to download the tweet image prediction (image_predictions.tsv)"
   ]
  },
  {
   "cell_type": "code",
   "execution_count": 232,
   "metadata": {},
   "outputs": [
    {
     "data": {
      "text/html": [
       "<div>\n",
       "<style scoped>\n",
       "    .dataframe tbody tr th:only-of-type {\n",
       "        vertical-align: middle;\n",
       "    }\n",
       "\n",
       "    .dataframe tbody tr th {\n",
       "        vertical-align: top;\n",
       "    }\n",
       "\n",
       "    .dataframe thead th {\n",
       "        text-align: right;\n",
       "    }\n",
       "</style>\n",
       "<table border=\"1\" class=\"dataframe\">\n",
       "  <thead>\n",
       "    <tr style=\"text-align: right;\">\n",
       "      <th></th>\n",
       "      <th>tweet_id</th>\n",
       "      <th>jpg_url</th>\n",
       "      <th>img_num</th>\n",
       "      <th>p1</th>\n",
       "      <th>p1_conf</th>\n",
       "      <th>p1_dog</th>\n",
       "      <th>p2</th>\n",
       "      <th>p2_conf</th>\n",
       "      <th>p2_dog</th>\n",
       "      <th>p3</th>\n",
       "      <th>p3_conf</th>\n",
       "      <th>p3_dog</th>\n",
       "    </tr>\n",
       "  </thead>\n",
       "  <tbody>\n",
       "    <tr>\n",
       "      <th>0</th>\n",
       "      <td>666020888022790149</td>\n",
       "      <td>https://pbs.twimg.com/media/CT4udn0WwAA0aMy.jpg</td>\n",
       "      <td>1</td>\n",
       "      <td>Welsh_springer_spaniel</td>\n",
       "      <td>0.465074</td>\n",
       "      <td>True</td>\n",
       "      <td>collie</td>\n",
       "      <td>0.156665</td>\n",
       "      <td>True</td>\n",
       "      <td>Shetland_sheepdog</td>\n",
       "      <td>0.061428</td>\n",
       "      <td>True</td>\n",
       "    </tr>\n",
       "    <tr>\n",
       "      <th>1</th>\n",
       "      <td>666029285002620928</td>\n",
       "      <td>https://pbs.twimg.com/media/CT42GRgUYAA5iDo.jpg</td>\n",
       "      <td>1</td>\n",
       "      <td>redbone</td>\n",
       "      <td>0.506826</td>\n",
       "      <td>True</td>\n",
       "      <td>miniature_pinscher</td>\n",
       "      <td>0.074192</td>\n",
       "      <td>True</td>\n",
       "      <td>Rhodesian_ridgeback</td>\n",
       "      <td>0.072010</td>\n",
       "      <td>True</td>\n",
       "    </tr>\n",
       "    <tr>\n",
       "      <th>2</th>\n",
       "      <td>666033412701032449</td>\n",
       "      <td>https://pbs.twimg.com/media/CT4521TWwAEvMyu.jpg</td>\n",
       "      <td>1</td>\n",
       "      <td>German_shepherd</td>\n",
       "      <td>0.596461</td>\n",
       "      <td>True</td>\n",
       "      <td>malinois</td>\n",
       "      <td>0.138584</td>\n",
       "      <td>True</td>\n",
       "      <td>bloodhound</td>\n",
       "      <td>0.116197</td>\n",
       "      <td>True</td>\n",
       "    </tr>\n",
       "  </tbody>\n",
       "</table>\n",
       "</div>"
      ],
      "text/plain": [
       "             tweet_id                                          jpg_url  \\\n",
       "0  666020888022790149  https://pbs.twimg.com/media/CT4udn0WwAA0aMy.jpg   \n",
       "1  666029285002620928  https://pbs.twimg.com/media/CT42GRgUYAA5iDo.jpg   \n",
       "2  666033412701032449  https://pbs.twimg.com/media/CT4521TWwAEvMyu.jpg   \n",
       "\n",
       "   img_num                      p1   p1_conf  p1_dog                  p2  \\\n",
       "0        1  Welsh_springer_spaniel  0.465074    True              collie   \n",
       "1        1                 redbone  0.506826    True  miniature_pinscher   \n",
       "2        1         German_shepherd  0.596461    True            malinois   \n",
       "\n",
       "    p2_conf  p2_dog                   p3   p3_conf  p3_dog  \n",
       "0  0.156665    True    Shetland_sheepdog  0.061428    True  \n",
       "1  0.074192    True  Rhodesian_ridgeback  0.072010    True  \n",
       "2  0.138584    True           bloodhound  0.116197    True  "
      ]
     },
     "execution_count": 232,
     "metadata": {},
     "output_type": "execute_result"
    }
   ],
   "source": [
    "url = 'https://d17h27t6h515a5.cloudfront.net/topher/2017/August/599fd2ad_image-predictions/image-predictions.tsv'\n",
    "response = urllib.request.urlopen(url)\n",
    "df_ipr = pd.read_csv(response, sep = '\\t')\n"
   ]
  },
  {
   "cell_type": "markdown",
   "metadata": {},
   "source": [
    "get all tweet_ids"
   ]
  },
  {
   "cell_type": "code",
   "execution_count": 233,
   "metadata": {},
   "outputs": [
    {
     "data": {
      "text/plain": [
       "2356"
      ]
     },
     "execution_count": 233,
     "metadata": {},
     "output_type": "execute_result"
    }
   ],
   "source": [
    "tweet_ids = df_ta['tweet_id'].astype(str)\n",
    "tweet_ids.shape[0]"
   ]
  },
  {
   "cell_type": "markdown",
   "metadata": {},
   "source": [
    "3. Use the Tweepy library to query additional data via the Twitter API (tweet_json.txt)"
   ]
  },
  {
   "cell_type": "code",
   "execution_count": 234,
   "metadata": {},
   "outputs": [],
   "source": [
    "path_to_bearer_token = os.path.join(base_path, \"bearer_token.txt\")\n",
    "with open(path_to_bearer_token, 'r') as f:    \n",
    "    bearer_token = f.read()"
   ]
  },
  {
   "cell_type": "code",
   "execution_count": 236,
   "metadata": {},
   "outputs": [],
   "source": [
    "def get_tweat_url(tw_id):\n",
    "    twitter_url = \"https://api.twitter.com/2/tweets/\" + str(tw_id)\n",
    "    query_params = {#'id': tw_id,\n",
    "                    'expansions': 'author_id,in_reply_to_user_id,geo.place_id',\n",
    "                    'tweet.fields': 'id,author_id,in_reply_to_user_id,geo,conversation_id,created_at,lang,public_metrics,referenced_tweets,reply_settings,source,text',\n",
    "                    'user.fields': 'id,name,username,created_at,description,public_metrics,verified',\n",
    "                    'place.fields': 'full_name,id,country,country_code,geo,name,place_type',\n",
    "                    'next_token': {}}\n",
    "    return (twitter_url, query_params)\n",
    "\n",
    "def get_tweats_url(tw_ids):\n",
    "    twitter_url = \"https://api.twitter.com/2/tweets\"\n",
    "    query_params = {'ids': tw_ids,\n",
    "                    'expansions': 'author_id,in_reply_to_user_id,geo.place_id',\n",
    "                    'tweet.fields': 'id,author_id,in_reply_to_user_id,geo,conversation_id,created_at,lang,public_metrics,referenced_tweets,reply_settings,source,text',\n",
    "                    'user.fields': 'id,name,username,created_at,description,public_metrics,verified',\n",
    "                    'place.fields': 'full_name,id,country,country_code,geo,name,place_type',\n",
    "                    'next_token': {}}\n",
    "    return (twitter_url, query_params)\n",
    "\n",
    "def connect_to_twitter(url, headers, params, next_token = None):\n",
    "    params['next_token'] = next_token\n",
    "    resp = requests.request(\"GET\", url, headers = headers, params = params)\n",
    "    print(\"Endpoint Response Code: \" + str(resp.status_code))\n",
    "    if resp.status_code != 200:\n",
    "        raise Exception(resp.status_code, resp.text)\n",
    "    return (resp.json())\n",
    "  \n",
    "    \n",
    "def get_ids_string(start, quantity, tw_ids_series): #format sting with ids for pulling\n",
    "    result = ''\n",
    "    for i in range(start, start + quantity):\n",
    "        if i in tw_ids_series.index:\n",
    "            if len(result) > 0:\n",
    "                result = result +','+ tw_ids_series[i]\n",
    "            else:\n",
    "                result = tw_ids_series[i]\n",
    "        else:\n",
    "            i-=1\n",
    "            break\n",
    "    return (result, i-start+1)\n",
    "def add_timestamp(my_series):\n",
    "    print('type_my_ser:', type(my_series) )\n",
    "    cur_time = time.time()\n",
    "    with open(os.path.join(base_path, 'rqsts.csv'),'a') as file:\n",
    "        file.write(str(cur_time))\n",
    "        file.write('\\n')\n",
    "    my_series = my_series.values.tolist()\n",
    "    my_series.append(cur_time)\n",
    "    my_series = pd.Series(my_series)\n",
    "    return(my_series)\n",
    "    \n",
    "def make_request(tweets_ids, time_window = 1700, requests_limit = 50):\n",
    "    if (file_exists(base_path, 'rqsts.csv')):\n",
    "        rqsts = pd.read_csv(os.path.join(base_path, 'rqsts.csv'), names = ['timestamp'])\n",
    "        rqsts_s = rqsts['timestamp']\n",
    "    else:\n",
    "        rqsts_s = pd.Series([])\n",
    "    current_time = time.time()\n",
    "    rqsts_f = rqsts_s[rqsts_s > (current_time - time_window)]\n",
    "    if (rqsts_f.shape[0] < requests_limit):\n",
    "        #do request\n",
    "        url = get_tweats_url(tweets_ids)\n",
    "        headers = {\"Authorization\": \"Bearer \" + bearer_token}\n",
    "        rqsts_f = rqsts_f.values.tolist()\n",
    "        rqsts_f.append(current_time)\n",
    "        rqsts_f = pd.Series(rqsts_f)\n",
    "        rqsts_f.to_csv(os.path.join(base_path, 'rqsts.csv'))\n",
    "        json_resp = connect_to_twitter(url[0], headers, url[1])\n",
    "        print(\"request completed\")\n",
    "        return(json_resp, True)\n",
    "    else:\n",
    "        print('limit of request exceeded: requests= ', rqsts_f.shape[0], 'limit=', requests_limit)\n",
    "        return(0, False)\n",
    "    \n",
    "#read_JSON RABOTAET NEPRVILNO https://github.com/pandas-dev/pandas/issues/20608# (pri chtenii)\n",
    "def pull_all_data(ids_series, batch_size = 5, time_window = 950, req_limit = 50, sleep_time = 10):\n",
    "    if (file_exists(base_path, 'tweet_json.txt')):\n",
    "        #workaround the insidious bug in read_json method of pandas: \"https://github.com/pandas-dev/pandas/issues/20608#\"\n",
    "        #some random id's in my dataframe became  a little bit different tnan they should be...\n",
    "        #I spend one hour to understand that my code is fine, it's pandas bug :-)\n",
    "        tweet_json = pd.read_json(os.path.join(base_path, 'tweet_json.txt'), lines=True, convert_axes=False, dtype={})\n",
    "        last_id = tweet_json_df.iloc[-1:]['id'].values[0] # the id of the last tweet in the output file (single value)\n",
    "        idx = (df_ta.index[df_ta['tweet_id'].astype(str) == last_id])\n",
    "        start_line = (idx[0].item()) #number of string to start, converted to basic python type\n",
    "    else:\n",
    "        start_line = 0\n",
    "    count = 0\n",
    "    for current_line in range(start_line, ids_series.shape[0], batch_size):\n",
    "        ids = get_ids_string(current_line, batch_size, ids_series)\n",
    "        rsp = ('', False)\n",
    "        while (rsp[1]!= True):\n",
    "            time.sleep(1)\n",
    "            rsp = make_request(ids[0],time_window, req_limit)\n",
    "            if (rsp[1]!= True): #we exceed the limit\n",
    "                print('waiting ', sleep_time, ' seconds' )\n",
    "                time.sleep(sleep_time)\n",
    "        if (not((rsp[0].get('data')) is None)):\n",
    "            missed_id_flag = False\n",
    "            for object_number in range(0,len(rsp[0].get('data'))): #check, maybe ids[1] +1\n",
    "                if (len(rsp[0].get('data')) < batch_size):\n",
    "                    missed_id_flag = True\n",
    "                with open('tweet_json.txt', 'a') as out_f:\n",
    "                    json.dump(rsp[0].get('data')[object_number],out_f)\n",
    "                    out_f.write('\\n')\n",
    "                    count +=1\n",
    "            if (missed_id_flag):\n",
    "                print('Missed id is here ------------>') #monitoring cases where response has less than batch_size data\n",
    "    print('records completed =', count)"
   ]
  },
  {
   "cell_type": "code",
   "execution_count": 237,
   "metadata": {},
   "outputs": [
    {
     "name": "stderr",
     "output_type": "stream",
     "text": [
      "C:\\Users\\mikle\\anaconda3\\envs\\anac_3.6\\lib\\site-packages\\ipykernel_launcher.py:58: DeprecationWarning: The default dtype for empty Series will be 'object' instead of 'float64' in a future version. Specify a dtype explicitly to silence this warning.\n"
     ]
    },
    {
     "name": "stdout",
     "output_type": "stream",
     "text": [
      "Endpoint Response Code: 200\n",
      "request completed\n",
      "Missed id is here ------------>\n",
      "Endpoint Response Code: 200\n",
      "request completed\n",
      "Missed id is here ------------>\n",
      "Endpoint Response Code: 200\n",
      "request completed\n",
      "Missed id is here ------------>\n",
      "Endpoint Response Code: 200\n",
      "request completed\n",
      "Missed id is here ------------>\n",
      "Endpoint Response Code: 200\n",
      "request completed\n",
      "Missed id is here ------------>\n",
      "Endpoint Response Code: 200\n",
      "request completed\n",
      "Missed id is here ------------>\n",
      "Endpoint Response Code: 200\n",
      "request completed\n",
      "Endpoint Response Code: 200\n",
      "request completed\n",
      "Missed id is here ------------>\n",
      "Endpoint Response Code: 200\n",
      "request completed\n",
      "Endpoint Response Code: 200\n",
      "request completed\n",
      "Endpoint Response Code: 200\n",
      "request completed\n",
      "Missed id is here ------------>\n",
      "Endpoint Response Code: 200\n",
      "request completed\n",
      "Missed id is here ------------>\n",
      "Endpoint Response Code: 200\n",
      "request completed\n",
      "Endpoint Response Code: 200\n",
      "request completed\n",
      "Endpoint Response Code: 200\n",
      "request completed\n",
      "Endpoint Response Code: 200\n",
      "request completed\n",
      "Missed id is here ------------>\n",
      "Endpoint Response Code: 200\n",
      "request completed\n",
      "Missed id is here ------------>\n",
      "Endpoint Response Code: 200\n",
      "request completed\n",
      "Missed id is here ------------>\n",
      "Endpoint Response Code: 200\n",
      "request completed\n",
      "Missed id is here ------------>\n",
      "Endpoint Response Code: 200\n",
      "request completed\n",
      "Endpoint Response Code: 200\n",
      "request completed\n",
      "Endpoint Response Code: 200\n",
      "request completed\n",
      "Endpoint Response Code: 200\n",
      "request completed\n",
      "Endpoint Response Code: 200\n",
      "request completed\n",
      "Endpoint Response Code: 200\n",
      "request completed\n",
      "Endpoint Response Code: 200\n",
      "request completed\n",
      "Endpoint Response Code: 200\n",
      "request completed\n",
      "Endpoint Response Code: 200\n",
      "request completed\n",
      "Endpoint Response Code: 200\n",
      "request completed\n",
      "Endpoint Response Code: 200\n",
      "request completed\n",
      "Endpoint Response Code: 200\n",
      "request completed\n",
      "Endpoint Response Code: 200\n",
      "request completed\n",
      "Endpoint Response Code: 200\n",
      "request completed\n",
      "Endpoint Response Code: 200\n",
      "request completed\n",
      "Endpoint Response Code: 200\n",
      "request completed\n",
      "Missed id is here ------------>\n",
      "Endpoint Response Code: 200\n",
      "request completed\n",
      "Endpoint Response Code: 200\n",
      "request completed\n",
      "Endpoint Response Code: 200\n",
      "request completed\n",
      "Endpoint Response Code: 200\n",
      "request completed\n",
      "Endpoint Response Code: 200\n",
      "request completed\n",
      "Endpoint Response Code: 200\n",
      "request completed\n",
      "Endpoint Response Code: 200\n",
      "request completed\n",
      "Endpoint Response Code: 200\n",
      "request completed\n",
      "Endpoint Response Code: 200\n",
      "request completed\n",
      "Endpoint Response Code: 200\n",
      "request completed\n",
      "Endpoint Response Code: 200\n",
      "request completed\n",
      "Endpoint Response Code: 200\n",
      "request completed\n",
      "Endpoint Response Code: 200\n",
      "request completed\n",
      "Missed id is here ------------>\n",
      "records completed = 2328\n"
     ]
    }
   ],
   "source": [
    "pull_all_data(df_ta['tweet_id'].astype(str), batch_size = 50, time_window = 905, req_limit = 50, sleep_time = 10)"
   ]
  },
  {
   "cell_type": "code",
   "execution_count": 289,
   "metadata": {},
   "outputs": [
    {
     "name": "stdout",
     "output_type": "stream",
     "text": [
      "888202515573088257,873697596434513921,872668790621863937,872261713294495745,869988702071779329,866816280283807744,861769973181624320,856602993587888130,856330835276025856\n"
     ]
    }
   ],
   "source": [
    "# find all missed id's in the first 200 rows:\n",
    "tweet_json = pd.read_json(os.path.join(base_path, 'tweet_json.txt'), lines=True, convert_axes=False, dtype={})\n",
    "df2 = tweet_json_df[['id','conversation_id']]\n",
    "df1 = df_ta[['tweet_id','timestamp']].head(200)\n",
    "df1['id'] = df_ta['tweet_id'].astype(str)\n",
    "df = pd.merge(df1, df2, on ='id', how =\"left\")[pd.merge(df1, df2, on ='id', how =\"left\")['conversation_id'].isna()]\n",
    "missed_ids = df['tweet_id'].astype(str).str.cat(sep=',')\n",
    "print(missed_ids)\n"
   ]
  },
  {
   "cell_type": "code",
   "execution_count": 251,
   "metadata": {},
   "outputs": [
    {
     "name": "stdout",
     "output_type": "stream",
     "text": [
      "Endpoint Response Code: 200\n",
      "request completed\n",
      "data = null, so the tweets do not exist now\n"
     ]
    }
   ],
   "source": [
    "rsp = make_request(missed_ids,905, 50)\n",
    "if (not((rsp[0].get('data')) is None)):\n",
    "    for object_number in range(0,len(rsp[0].get('data'))): \n",
    "        if (len(rsp[0].get('data')) < 9):\n",
    "            print('HERE------------>')\n",
    "        with open('bbb.txt', 'a') as out_f:\n",
    "            json.dump(rsp[0].get('data')[object_number],out_f)\n",
    "            out_f.write('\\n')\n",
    "else:\n",
    "    print('data = null, so the tweets do not exist now')\n",
    "               "
   ]
  },
  {
   "cell_type": "markdown",
   "metadata": {
    "extensions": {
     "jupyter_dashboards": {
      "version": 1,
      "views": {
       "grid_default": {
        "col": 4,
        "height": 4,
        "hidden": false,
        "row": 28,
        "width": 4
       },
       "report_default": {
        "hidden": false
       }
      }
     }
    }
   },
   "source": [
    "## Assessing Data\n",
    "In this section, detect and document at least **eight (8) quality issues and two (2) tidiness issue**. You must use **both** visual assessment\n",
    "programmatic assessement to assess the data.\n",
    "\n",
    "**Note:** pay attention to the following key points when you access the data.\n",
    "\n",
    "* You only want original ratings (no retweets) that have images. Though there are 5000+ tweets in the dataset, not all are dog ratings and some are retweets.\n",
    "* Assessing and cleaning the entire dataset completely would require a lot of time, and is not necessary to practice and demonstrate your skills in data wrangling. Therefore, the requirements of this project are only to assess and clean at least 8 quality issues and at least 2 tidiness issues in this dataset.\n",
    "* The fact that the rating numerators are greater than the denominators does not need to be cleaned. This [unique rating system](http://knowyourmeme.com/memes/theyre-good-dogs-brent) is a big part of the popularity of WeRateDogs.\n",
    "* You do not need to gather the tweets beyond August 1st, 2017. You can, but note that you won't be able to gather the image predictions for these tweets since you don't have access to the algorithm used.\n",
    "\n"
   ]
  },
  {
   "cell_type": "markdown",
   "metadata": {},
   "source": [
    "First, let merge all 3 dataframes to one:"
   ]
  },
  {
   "cell_type": "code",
   "execution_count": 307,
   "metadata": {},
   "outputs": [],
   "source": [
    "df2 = tweet_json_df\n",
    "df1 = df_ta\n",
    "df1['id'] = df_ta['tweet_id'].astype(str)\n",
    "df_mergd1 = pd.merge(df1, df2, on ='id', how =\"left\")\n",
    "df_ipr['id'] = df_ipr['tweet_id'].astype(str)\n",
    "master_df = pd.merge(df_mergd1, df_ipr, on ='id', how =\"left\")"
   ]
  },
  {
   "cell_type": "code",
   "execution_count": 308,
   "metadata": {},
   "outputs": [
    {
     "data": {
      "text/html": [
       "<div>\n",
       "<style scoped>\n",
       "    .dataframe tbody tr th:only-of-type {\n",
       "        vertical-align: middle;\n",
       "    }\n",
       "\n",
       "    .dataframe tbody tr th {\n",
       "        vertical-align: top;\n",
       "    }\n",
       "\n",
       "    .dataframe thead th {\n",
       "        text-align: right;\n",
       "    }\n",
       "</style>\n",
       "<table border=\"1\" class=\"dataframe\">\n",
       "  <thead>\n",
       "    <tr style=\"text-align: right;\">\n",
       "      <th></th>\n",
       "      <th>Unnamed: 0</th>\n",
       "      <th>tweet_id_x</th>\n",
       "      <th>in_reply_to_status_id</th>\n",
       "      <th>in_reply_to_user_id_x</th>\n",
       "      <th>timestamp</th>\n",
       "      <th>source_x</th>\n",
       "      <th>text_x</th>\n",
       "      <th>retweeted_status_id</th>\n",
       "      <th>retweeted_status_user_id</th>\n",
       "      <th>retweeted_status_timestamp</th>\n",
       "      <th>...</th>\n",
       "      <th>img_num</th>\n",
       "      <th>p1</th>\n",
       "      <th>p1_conf</th>\n",
       "      <th>p1_dog</th>\n",
       "      <th>p2</th>\n",
       "      <th>p2_conf</th>\n",
       "      <th>p2_dog</th>\n",
       "      <th>p3</th>\n",
       "      <th>p3_conf</th>\n",
       "      <th>p3_dog</th>\n",
       "    </tr>\n",
       "  </thead>\n",
       "  <tbody>\n",
       "    <tr>\n",
       "      <th>0</th>\n",
       "      <td>0</td>\n",
       "      <td>892420643555336193</td>\n",
       "      <td>NaN</td>\n",
       "      <td>NaN</td>\n",
       "      <td>2017-08-01 16:23:56 +0000</td>\n",
       "      <td>&lt;a href=\"http://twitter.com/download/iphone\" r...</td>\n",
       "      <td>This is Phineas. He's a mystical boy. Only eve...</td>\n",
       "      <td>NaN</td>\n",
       "      <td>NaN</td>\n",
       "      <td>NaN</td>\n",
       "      <td>...</td>\n",
       "      <td>1.0</td>\n",
       "      <td>orange</td>\n",
       "      <td>0.097049</td>\n",
       "      <td>False</td>\n",
       "      <td>bagel</td>\n",
       "      <td>0.085851</td>\n",
       "      <td>False</td>\n",
       "      <td>banana</td>\n",
       "      <td>0.076110</td>\n",
       "      <td>False</td>\n",
       "    </tr>\n",
       "    <tr>\n",
       "      <th>1</th>\n",
       "      <td>1</td>\n",
       "      <td>892177421306343426</td>\n",
       "      <td>NaN</td>\n",
       "      <td>NaN</td>\n",
       "      <td>2017-08-01 00:17:27 +0000</td>\n",
       "      <td>&lt;a href=\"http://twitter.com/download/iphone\" r...</td>\n",
       "      <td>This is Tilly. She's just checking pup on you....</td>\n",
       "      <td>NaN</td>\n",
       "      <td>NaN</td>\n",
       "      <td>NaN</td>\n",
       "      <td>...</td>\n",
       "      <td>1.0</td>\n",
       "      <td>Chihuahua</td>\n",
       "      <td>0.323581</td>\n",
       "      <td>True</td>\n",
       "      <td>Pekinese</td>\n",
       "      <td>0.090647</td>\n",
       "      <td>True</td>\n",
       "      <td>papillon</td>\n",
       "      <td>0.068957</td>\n",
       "      <td>True</td>\n",
       "    </tr>\n",
       "    <tr>\n",
       "      <th>2</th>\n",
       "      <td>2</td>\n",
       "      <td>891815181378084864</td>\n",
       "      <td>NaN</td>\n",
       "      <td>NaN</td>\n",
       "      <td>2017-07-31 00:18:03 +0000</td>\n",
       "      <td>&lt;a href=\"http://twitter.com/download/iphone\" r...</td>\n",
       "      <td>This is Archie. He is a rare Norwegian Pouncin...</td>\n",
       "      <td>NaN</td>\n",
       "      <td>NaN</td>\n",
       "      <td>NaN</td>\n",
       "      <td>...</td>\n",
       "      <td>1.0</td>\n",
       "      <td>Chihuahua</td>\n",
       "      <td>0.716012</td>\n",
       "      <td>True</td>\n",
       "      <td>malamute</td>\n",
       "      <td>0.078253</td>\n",
       "      <td>True</td>\n",
       "      <td>kelpie</td>\n",
       "      <td>0.031379</td>\n",
       "      <td>True</td>\n",
       "    </tr>\n",
       "  </tbody>\n",
       "</table>\n",
       "<p>3 rows × 42 columns</p>\n",
       "</div>"
      ],
      "text/plain": [
       "   Unnamed: 0          tweet_id_x  in_reply_to_status_id  \\\n",
       "0           0  892420643555336193                    NaN   \n",
       "1           1  892177421306343426                    NaN   \n",
       "2           2  891815181378084864                    NaN   \n",
       "\n",
       "   in_reply_to_user_id_x                  timestamp  \\\n",
       "0                    NaN  2017-08-01 16:23:56 +0000   \n",
       "1                    NaN  2017-08-01 00:17:27 +0000   \n",
       "2                    NaN  2017-07-31 00:18:03 +0000   \n",
       "\n",
       "                                            source_x  \\\n",
       "0  <a href=\"http://twitter.com/download/iphone\" r...   \n",
       "1  <a href=\"http://twitter.com/download/iphone\" r...   \n",
       "2  <a href=\"http://twitter.com/download/iphone\" r...   \n",
       "\n",
       "                                              text_x  retweeted_status_id  \\\n",
       "0  This is Phineas. He's a mystical boy. Only eve...                  NaN   \n",
       "1  This is Tilly. She's just checking pup on you....                  NaN   \n",
       "2  This is Archie. He is a rare Norwegian Pouncin...                  NaN   \n",
       "\n",
       "   retweeted_status_user_id retweeted_status_timestamp  ... img_num  \\\n",
       "0                       NaN                        NaN  ...     1.0   \n",
       "1                       NaN                        NaN  ...     1.0   \n",
       "2                       NaN                        NaN  ...     1.0   \n",
       "\n",
       "          p1   p1_conf p1_dog        p2   p2_conf p2_dog        p3   p3_conf  \\\n",
       "0     orange  0.097049  False     bagel  0.085851  False    banana  0.076110   \n",
       "1  Chihuahua  0.323581   True  Pekinese  0.090647   True  papillon  0.068957   \n",
       "2  Chihuahua  0.716012   True  malamute  0.078253   True    kelpie  0.031379   \n",
       "\n",
       "  p3_dog  \n",
       "0  False  \n",
       "1   True  \n",
       "2   True  \n",
       "\n",
       "[3 rows x 42 columns]"
      ]
     },
     "execution_count": 308,
     "metadata": {},
     "output_type": "execute_result"
    }
   ],
   "source": [
    "master_df.head(3)"
   ]
  },
  {
   "cell_type": "code",
   "execution_count": 310,
   "metadata": {},
   "outputs": [
    {
     "data": {
      "text/html": [
       "<div>\n",
       "<style scoped>\n",
       "    .dataframe tbody tr th:only-of-type {\n",
       "        vertical-align: middle;\n",
       "    }\n",
       "\n",
       "    .dataframe tbody tr th {\n",
       "        vertical-align: top;\n",
       "    }\n",
       "\n",
       "    .dataframe thead th {\n",
       "        text-align: right;\n",
       "    }\n",
       "</style>\n",
       "<table border=\"1\" class=\"dataframe\">\n",
       "  <thead>\n",
       "    <tr style=\"text-align: right;\">\n",
       "      <th></th>\n",
       "      <th>Unnamed: 0</th>\n",
       "      <th>tweet_id_x</th>\n",
       "      <th>in_reply_to_status_id</th>\n",
       "      <th>in_reply_to_user_id_x</th>\n",
       "      <th>retweeted_status_id</th>\n",
       "      <th>retweeted_status_user_id</th>\n",
       "      <th>rating_numerator</th>\n",
       "      <th>rating_denominator</th>\n",
       "      <th>tweet_id_y</th>\n",
       "      <th>img_num</th>\n",
       "      <th>p1_conf</th>\n",
       "      <th>p2_conf</th>\n",
       "      <th>p3_conf</th>\n",
       "    </tr>\n",
       "  </thead>\n",
       "  <tbody>\n",
       "    <tr>\n",
       "      <th>count</th>\n",
       "      <td>2356.000000</td>\n",
       "      <td>2.356000e+03</td>\n",
       "      <td>7.800000e+01</td>\n",
       "      <td>7.800000e+01</td>\n",
       "      <td>1.810000e+02</td>\n",
       "      <td>1.810000e+02</td>\n",
       "      <td>2356.000000</td>\n",
       "      <td>2356.000000</td>\n",
       "      <td>2.075000e+03</td>\n",
       "      <td>2075.000000</td>\n",
       "      <td>2075.000000</td>\n",
       "      <td>2.075000e+03</td>\n",
       "      <td>2.075000e+03</td>\n",
       "    </tr>\n",
       "    <tr>\n",
       "      <th>mean</th>\n",
       "      <td>1177.500000</td>\n",
       "      <td>7.427716e+17</td>\n",
       "      <td>7.455079e+17</td>\n",
       "      <td>2.014171e+16</td>\n",
       "      <td>7.720400e+17</td>\n",
       "      <td>1.241698e+16</td>\n",
       "      <td>13.126486</td>\n",
       "      <td>10.455433</td>\n",
       "      <td>7.384514e+17</td>\n",
       "      <td>1.203855</td>\n",
       "      <td>0.594548</td>\n",
       "      <td>1.345886e-01</td>\n",
       "      <td>6.032417e-02</td>\n",
       "    </tr>\n",
       "    <tr>\n",
       "      <th>std</th>\n",
       "      <td>680.262939</td>\n",
       "      <td>6.856705e+16</td>\n",
       "      <td>7.582492e+16</td>\n",
       "      <td>1.252797e+17</td>\n",
       "      <td>6.236928e+16</td>\n",
       "      <td>9.599254e+16</td>\n",
       "      <td>45.876648</td>\n",
       "      <td>6.745237</td>\n",
       "      <td>6.785203e+16</td>\n",
       "      <td>0.561875</td>\n",
       "      <td>0.271174</td>\n",
       "      <td>1.006657e-01</td>\n",
       "      <td>5.090593e-02</td>\n",
       "    </tr>\n",
       "    <tr>\n",
       "      <th>min</th>\n",
       "      <td>0.000000</td>\n",
       "      <td>6.660209e+17</td>\n",
       "      <td>6.658147e+17</td>\n",
       "      <td>1.185634e+07</td>\n",
       "      <td>6.661041e+17</td>\n",
       "      <td>7.832140e+05</td>\n",
       "      <td>0.000000</td>\n",
       "      <td>0.000000</td>\n",
       "      <td>6.660209e+17</td>\n",
       "      <td>1.000000</td>\n",
       "      <td>0.044333</td>\n",
       "      <td>1.011300e-08</td>\n",
       "      <td>1.740170e-10</td>\n",
       "    </tr>\n",
       "    <tr>\n",
       "      <th>25%</th>\n",
       "      <td>588.750000</td>\n",
       "      <td>6.783989e+17</td>\n",
       "      <td>6.757419e+17</td>\n",
       "      <td>3.086374e+08</td>\n",
       "      <td>7.186315e+17</td>\n",
       "      <td>4.196984e+09</td>\n",
       "      <td>10.000000</td>\n",
       "      <td>10.000000</td>\n",
       "      <td>6.764835e+17</td>\n",
       "      <td>1.000000</td>\n",
       "      <td>0.364412</td>\n",
       "      <td>5.388625e-02</td>\n",
       "      <td>1.622240e-02</td>\n",
       "    </tr>\n",
       "    <tr>\n",
       "      <th>50%</th>\n",
       "      <td>1177.500000</td>\n",
       "      <td>7.196279e+17</td>\n",
       "      <td>7.038708e+17</td>\n",
       "      <td>4.196984e+09</td>\n",
       "      <td>7.804657e+17</td>\n",
       "      <td>4.196984e+09</td>\n",
       "      <td>11.000000</td>\n",
       "      <td>10.000000</td>\n",
       "      <td>7.119988e+17</td>\n",
       "      <td>1.000000</td>\n",
       "      <td>0.588230</td>\n",
       "      <td>1.181810e-01</td>\n",
       "      <td>4.944380e-02</td>\n",
       "    </tr>\n",
       "    <tr>\n",
       "      <th>75%</th>\n",
       "      <td>1766.250000</td>\n",
       "      <td>7.993373e+17</td>\n",
       "      <td>8.257804e+17</td>\n",
       "      <td>4.196984e+09</td>\n",
       "      <td>8.203146e+17</td>\n",
       "      <td>4.196984e+09</td>\n",
       "      <td>12.000000</td>\n",
       "      <td>10.000000</td>\n",
       "      <td>7.932034e+17</td>\n",
       "      <td>1.000000</td>\n",
       "      <td>0.843855</td>\n",
       "      <td>1.955655e-01</td>\n",
       "      <td>9.180755e-02</td>\n",
       "    </tr>\n",
       "    <tr>\n",
       "      <th>max</th>\n",
       "      <td>2355.000000</td>\n",
       "      <td>8.924206e+17</td>\n",
       "      <td>8.862664e+17</td>\n",
       "      <td>8.405479e+17</td>\n",
       "      <td>8.874740e+17</td>\n",
       "      <td>7.874618e+17</td>\n",
       "      <td>1776.000000</td>\n",
       "      <td>170.000000</td>\n",
       "      <td>8.924206e+17</td>\n",
       "      <td>4.000000</td>\n",
       "      <td>1.000000</td>\n",
       "      <td>4.880140e-01</td>\n",
       "      <td>2.734190e-01</td>\n",
       "    </tr>\n",
       "  </tbody>\n",
       "</table>\n",
       "</div>"
      ],
      "text/plain": [
       "        Unnamed: 0    tweet_id_x  in_reply_to_status_id  \\\n",
       "count  2356.000000  2.356000e+03           7.800000e+01   \n",
       "mean   1177.500000  7.427716e+17           7.455079e+17   \n",
       "std     680.262939  6.856705e+16           7.582492e+16   \n",
       "min       0.000000  6.660209e+17           6.658147e+17   \n",
       "25%     588.750000  6.783989e+17           6.757419e+17   \n",
       "50%    1177.500000  7.196279e+17           7.038708e+17   \n",
       "75%    1766.250000  7.993373e+17           8.257804e+17   \n",
       "max    2355.000000  8.924206e+17           8.862664e+17   \n",
       "\n",
       "       in_reply_to_user_id_x  retweeted_status_id  retweeted_status_user_id  \\\n",
       "count           7.800000e+01         1.810000e+02              1.810000e+02   \n",
       "mean            2.014171e+16         7.720400e+17              1.241698e+16   \n",
       "std             1.252797e+17         6.236928e+16              9.599254e+16   \n",
       "min             1.185634e+07         6.661041e+17              7.832140e+05   \n",
       "25%             3.086374e+08         7.186315e+17              4.196984e+09   \n",
       "50%             4.196984e+09         7.804657e+17              4.196984e+09   \n",
       "75%             4.196984e+09         8.203146e+17              4.196984e+09   \n",
       "max             8.405479e+17         8.874740e+17              7.874618e+17   \n",
       "\n",
       "       rating_numerator  rating_denominator    tweet_id_y      img_num  \\\n",
       "count       2356.000000         2356.000000  2.075000e+03  2075.000000   \n",
       "mean          13.126486           10.455433  7.384514e+17     1.203855   \n",
       "std           45.876648            6.745237  6.785203e+16     0.561875   \n",
       "min            0.000000            0.000000  6.660209e+17     1.000000   \n",
       "25%           10.000000           10.000000  6.764835e+17     1.000000   \n",
       "50%           11.000000           10.000000  7.119988e+17     1.000000   \n",
       "75%           12.000000           10.000000  7.932034e+17     1.000000   \n",
       "max         1776.000000          170.000000  8.924206e+17     4.000000   \n",
       "\n",
       "           p1_conf       p2_conf       p3_conf  \n",
       "count  2075.000000  2.075000e+03  2.075000e+03  \n",
       "mean      0.594548  1.345886e-01  6.032417e-02  \n",
       "std       0.271174  1.006657e-01  5.090593e-02  \n",
       "min       0.044333  1.011300e-08  1.740170e-10  \n",
       "25%       0.364412  5.388625e-02  1.622240e-02  \n",
       "50%       0.588230  1.181810e-01  4.944380e-02  \n",
       "75%       0.843855  1.955655e-01  9.180755e-02  \n",
       "max       1.000000  4.880140e-01  2.734190e-01  "
      ]
     },
     "execution_count": 310,
     "metadata": {},
     "output_type": "execute_result"
    }
   ],
   "source": [
    "master_df.describe()"
   ]
  },
  {
   "cell_type": "code",
   "execution_count": 331,
   "metadata": {},
   "outputs": [
    {
     "name": "stdout",
     "output_type": "stream",
     "text": [
      "<class 'pandas.core.frame.DataFrame'>\n",
      "Int64Index: 2356 entries, 0 to 2355\n",
      "Data columns (total 42 columns):\n",
      " #   Column                      Non-Null Count  Dtype              \n",
      "---  ------                      --------------  -----              \n",
      " 0   Unnamed: 0                  2356 non-null   int64              \n",
      " 1   tweet_id_x                  2356 non-null   int64              \n",
      " 2   in_reply_to_status_id       78 non-null     float64            \n",
      " 3   in_reply_to_user_id_x       78 non-null     float64            \n",
      " 4   timestamp                   2356 non-null   object             \n",
      " 5   source_x                    2356 non-null   object             \n",
      " 6   text_x                      2356 non-null   object             \n",
      " 7   retweeted_status_id         181 non-null    float64            \n",
      " 8   retweeted_status_user_id    181 non-null    float64            \n",
      " 9   retweeted_status_timestamp  181 non-null    object             \n",
      " 10  expanded_urls               2297 non-null   object             \n",
      " 11  rating_numerator            2356 non-null   int64              \n",
      " 12  rating_denominator          2356 non-null   int64              \n",
      " 13  name                        2356 non-null   object             \n",
      " 14  doggo                       2356 non-null   object             \n",
      " 15  floofer                     2356 non-null   object             \n",
      " 16  pupper                      2356 non-null   object             \n",
      " 17  puppo                       2356 non-null   object             \n",
      " 18  id                          2356 non-null   object             \n",
      " 19  public_metrics              2328 non-null   object             \n",
      " 20  created_at                  2328 non-null   datetime64[ns, UTC]\n",
      " 21  author_id                   2328 non-null   object             \n",
      " 22  reply_settings              2328 non-null   object             \n",
      " 23  conversation_id             2328 non-null   object             \n",
      " 24  text_y                      2328 non-null   object             \n",
      " 25  lang                        2328 non-null   object             \n",
      " 26  source_y                    2328 non-null   object             \n",
      " 27  referenced_tweets           263 non-null    object             \n",
      " 28  in_reply_to_user_id_y       78 non-null     object             \n",
      " 29  geo                         1 non-null      object             \n",
      " 30  tweet_id_y                  2075 non-null   float64            \n",
      " 31  jpg_url                     2075 non-null   object             \n",
      " 32  img_num                     2075 non-null   float64            \n",
      " 33  p1                          2075 non-null   object             \n",
      " 34  p1_conf                     2075 non-null   float64            \n",
      " 35  p1_dog                      2075 non-null   object             \n",
      " 36  p2                          2075 non-null   object             \n",
      " 37  p2_conf                     2075 non-null   float64            \n",
      " 38  p2_dog                      2075 non-null   object             \n",
      " 39  p3                          2075 non-null   object             \n",
      " 40  p3_conf                     2075 non-null   float64            \n",
      " 41  p3_dog                      2075 non-null   object             \n",
      "dtypes: datetime64[ns, UTC](1), float64(9), int64(4), object(28)\n",
      "memory usage: 791.5+ KB\n"
     ]
    }
   ],
   "source": [
    "master_df.info()"
   ]
  },
  {
   "cell_type": "code",
   "execution_count": 316,
   "metadata": {},
   "outputs": [
    {
     "data": {
      "text/plain": [
       "464"
      ]
     },
     "execution_count": 316,
     "metadata": {},
     "output_type": "execute_result"
    }
   ],
   "source": [
    "master_df[(master_df['rating_numerator'] <10) | (master_df['rating_numerator'] >20)].count()[0]"
   ]
  },
  {
   "cell_type": "code",
   "execution_count": 319,
   "metadata": {},
   "outputs": [
    {
     "data": {
      "text/plain": [
       "23"
      ]
     },
     "execution_count": 319,
     "metadata": {},
     "output_type": "execute_result"
    }
   ],
   "source": [
    "master_df[(master_df['rating_denominator'] != 10)].count()[0]"
   ]
  },
  {
   "cell_type": "code",
   "execution_count": 324,
   "metadata": {},
   "outputs": [
    {
     "data": {
      "text/plain": [
       "259"
      ]
     },
     "execution_count": 324,
     "metadata": {},
     "output_type": "execute_result"
    }
   ],
   "source": [
    "master_df[(master_df['retweeted_status_id'].isna() == False) | (master_df['in_reply_to_status_id'].isna() == False)].count()[0]"
   ]
  },
  {
   "cell_type": "code",
   "execution_count": 340,
   "metadata": {},
   "outputs": [
    {
     "data": {
      "text/plain": [
       "28"
      ]
     },
     "execution_count": 340,
     "metadata": {},
     "output_type": "execute_result"
    }
   ],
   "source": [
    "master_df['text_y'].isna().sum() #5"
   ]
  },
  {
   "cell_type": "markdown",
   "metadata": {},
   "source": [
    "### Quality issues\n",
    "1. The column rating_numerator has a minimum of 0, whereas the valid minimum is 10 (\" Almost always greater than 10\"). And Max is over 1700 that is not good too. \n",
    "\n",
    "2. The column rating_denominator: it should be 10, but the min is 0, max is 170.\n",
    "\n",
    "3. The source column has Html tags. For using these URLs anywhere, we should remove Html tags.\n",
    "\n",
    "4. Some records (with non-null values in columns like 'in_reply_to_status_id' ) are not original tweets as required\n",
    "\n",
    "5. Some tweets IDs in df_ta were wrong or deleted in Twitter. (see \"#find all missed id's\"). It caused null values in all columns related to tweet_json_df data frame (text_y, lang, etc.) \n",
    "\n",
    "6. Some of the columns have only a few non-null rows. (geo)\n",
    "\n",
    "7. All columns related to the df_ipr data frame have fewer non-null values than others. It is caused by less quantity of rows. (2075 compared to 2356)\n",
    "\n",
    "8. Some of the rows has all three non-dog values in p1, p2, p3 dog columns\n",
    "\n",
    "9. The expanded_urls column has fewer non-null values than it should be (2297 instead of 2356)"
   ]
  },
  {
   "cell_type": "code",
   "execution_count": 341,
   "metadata": {},
   "outputs": [
    {
     "name": "stdout",
     "output_type": "stream",
     "text": [
      "{'retweet_count': 7117, 'reply_count': 145, 'like_count': 34245, 'quote_count': 219}\n"
     ]
    }
   ],
   "source": [
    "print((master_df['public_metrics'].iloc[0]))"
   ]
  },
  {
   "cell_type": "code",
   "execution_count": null,
   "metadata": {},
   "outputs": [],
   "source": []
  },
  {
   "cell_type": "code",
   "execution_count": null,
   "metadata": {},
   "outputs": [],
   "source": []
  },
  {
   "cell_type": "code",
   "execution_count": null,
   "metadata": {},
   "outputs": [],
   "source": []
  },
  {
   "cell_type": "code",
   "execution_count": null,
   "metadata": {},
   "outputs": [],
   "source": []
  },
  {
   "cell_type": "code",
   "execution_count": null,
   "metadata": {},
   "outputs": [],
   "source": []
  },
  {
   "cell_type": "markdown",
   "metadata": {
    "extensions": {
     "jupyter_dashboards": {
      "version": 1,
      "views": {
       "grid_default": {
        "col": 0,
        "height": 7,
        "hidden": false,
        "row": 40,
        "width": 12
       },
       "report_default": {
        "hidden": false
       }
      }
     }
    }
   },
   "source": [
    "### Tidiness issues\n",
    "1. Dataset has a lot of redundant columns such as in_reply_to_status_id and in_reply_to_user_id_x, id and tweet_id, and conversation_id, etc. \n",
    "2. doggo, floofer, upper, and puppo it's one categorical variable. It should be one column instead of 4.\n",
    "3. values in public_metrics are dictionaries. It should be converted to several columns like reply_count, like_count, etc"
   ]
  },
  {
   "cell_type": "code",
   "execution_count": null,
   "metadata": {},
   "outputs": [],
   "source": []
  },
  {
   "cell_type": "code",
   "execution_count": null,
   "metadata": {},
   "outputs": [],
   "source": []
  },
  {
   "cell_type": "code",
   "execution_count": null,
   "metadata": {},
   "outputs": [],
   "source": []
  },
  {
   "cell_type": "markdown",
   "metadata": {
    "extensions": {
     "jupyter_dashboards": {
      "version": 1,
      "views": {
       "grid_default": {
        "col": 4,
        "height": 4,
        "hidden": false,
        "row": 32,
        "width": 4
       },
       "report_default": {
        "hidden": false
       }
      }
     }
    }
   },
   "source": [
    "## Cleaning Data\n",
    "In this section, clean **all** of the issues you documented while assessing. \n",
    "\n",
    "**Note:** Make a copy of the original data before cleaning. Cleaning includes merging individual pieces of data according to the rules of [tidy data](https://cran.r-project.org/web/packages/tidyr/vignettes/tidy-data.html). The result should be a high-quality and tidy master pandas DataFrame (or DataFrames, if appropriate)."
   ]
  },
  {
   "cell_type": "code",
   "execution_count": null,
   "metadata": {},
   "outputs": [],
   "source": [
    "# Make copies of original pieces of data\n"
   ]
  },
  {
   "cell_type": "markdown",
   "metadata": {},
   "source": [
    "### Issue #1:"
   ]
  },
  {
   "cell_type": "markdown",
   "metadata": {},
   "source": [
    "#### Define:"
   ]
  },
  {
   "cell_type": "markdown",
   "metadata": {},
   "source": [
    "#### Code"
   ]
  },
  {
   "cell_type": "code",
   "execution_count": null,
   "metadata": {},
   "outputs": [],
   "source": []
  },
  {
   "cell_type": "code",
   "execution_count": 292,
   "metadata": {},
   "outputs": [],
   "source": [
    "tweet_json.drop(['conversation_id', 'created_at', 'text', 'reply_settings', 'lang'\n",
    "                               , 'source', 'geo'], axis=1, inplace=True)"
   ]
  },
  {
   "cell_type": "code",
   "execution_count": 293,
   "metadata": {},
   "outputs": [],
   "source": [
    "tweet_json = tweet_json.drop('public_metrics', axis=1).join(pd.DataFrame(tweet_json2.public_metrics.values.tolist()))"
   ]
  },
  {
   "cell_type": "code",
   "execution_count": 288,
   "metadata": {
    "scrolled": false
   },
   "outputs": [
    {
     "name": "stdout",
     "output_type": "stream",
     "text": [
      "78\n"
     ]
    }
   ],
   "source": [
    "print(tweet_json[tweet_json['in_reply_to_user_id'].isna() == False].shape[0])"
   ]
  },
  {
   "cell_type": "code",
   "execution_count": 294,
   "metadata": {},
   "outputs": [
    {
     "name": "stdout",
     "output_type": "stream",
     "text": [
      "    author_id                  id referenced_tweets in_reply_to_user_id  \\\n",
      "0  4196983835  892420643555336193               NaN                 NaN   \n",
      "1  4196983835  892177421306343426               NaN                 NaN   \n",
      "\n",
      "   retweet_count  reply_count  like_count  quote_count  \n",
      "0           7117          145       34245          219  \n",
      "1           5359          172       29687          274  \n"
     ]
    }
   ],
   "source": [
    "print(tweet_json.head(2))"
   ]
  },
  {
   "cell_type": "markdown",
   "metadata": {},
   "source": [
    "#### Test"
   ]
  },
  {
   "cell_type": "code",
   "execution_count": null,
   "metadata": {},
   "outputs": [],
   "source": []
  },
  {
   "cell_type": "markdown",
   "metadata": {},
   "source": [
    "### Issue #2:"
   ]
  },
  {
   "cell_type": "markdown",
   "metadata": {
    "collapsed": true,
    "extensions": {
     "jupyter_dashboards": {
      "version": 1,
      "views": {
       "grid_default": {
        "hidden": true
       },
       "report_default": {
        "hidden": true
       }
      }
     }
    }
   },
   "source": [
    "#### Define"
   ]
  },
  {
   "cell_type": "markdown",
   "metadata": {},
   "source": [
    "#### Code"
   ]
  },
  {
   "cell_type": "code",
   "execution_count": null,
   "metadata": {},
   "outputs": [],
   "source": []
  },
  {
   "cell_type": "markdown",
   "metadata": {},
   "source": [
    "#### Test"
   ]
  },
  {
   "cell_type": "code",
   "execution_count": null,
   "metadata": {},
   "outputs": [],
   "source": []
  },
  {
   "cell_type": "markdown",
   "metadata": {},
   "source": [
    "## Storing Data\n",
    "Save gathered, assessed, and cleaned master dataset to a CSV file named \"twitter_archive_master.csv\"."
   ]
  },
  {
   "cell_type": "code",
   "execution_count": null,
   "metadata": {},
   "outputs": [],
   "source": []
  },
  {
   "cell_type": "markdown",
   "metadata": {},
   "source": [
    "## Analyzing and Visualizing Data\n",
    "In this section, analyze and visualize your wrangled data. You must produce at least **three (3) insights and one (1) visualization.**"
   ]
  },
  {
   "cell_type": "code",
   "execution_count": null,
   "metadata": {},
   "outputs": [],
   "source": []
  },
  {
   "cell_type": "markdown",
   "metadata": {},
   "source": [
    "### Insights:\n",
    "1.\n",
    "\n",
    "2.\n",
    "\n",
    "3."
   ]
  },
  {
   "cell_type": "markdown",
   "metadata": {
    "collapsed": true
   },
   "source": [
    "### Visualization"
   ]
  },
  {
   "cell_type": "code",
   "execution_count": null,
   "metadata": {},
   "outputs": [],
   "source": []
  },
  {
   "cell_type": "code",
   "execution_count": null,
   "metadata": {},
   "outputs": [],
   "source": []
  },
  {
   "cell_type": "code",
   "execution_count": null,
   "metadata": {},
   "outputs": [],
   "source": []
  },
  {
   "cell_type": "code",
   "execution_count": null,
   "metadata": {},
   "outputs": [],
   "source": []
  }
 ],
 "metadata": {
  "extensions": {
   "jupyter_dashboards": {
    "activeView": "report_default",
    "version": 1,
    "views": {
     "grid_default": {
      "cellMargin": 10,
      "defaultCellHeight": 20,
      "maxColumns": 12,
      "name": "grid",
      "type": "grid"
     },
     "report_default": {
      "name": "report",
      "type": "report"
     }
    }
   }
  },
  "kernelspec": {
   "display_name": "anac_3.6",
   "language": "python",
   "name": "anac_3.6"
  },
  "language_info": {
   "codemirror_mode": {
    "name": "ipython",
    "version": 3
   },
   "file_extension": ".py",
   "mimetype": "text/x-python",
   "name": "python",
   "nbconvert_exporter": "python",
   "pygments_lexer": "ipython3",
   "version": "3.6.13"
  }
 },
 "nbformat": 4,
 "nbformat_minor": 2
}
